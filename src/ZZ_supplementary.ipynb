{
 "cells": [
  {
   "cell_type": "code",
   "execution_count": 1,
   "metadata": {},
   "outputs": [],
   "source": [
    "import numpy as np\n",
    "import pandas as pd\n",
    "import os\n",
    "import networkx as nx\n",
    "import matplotlib.pyplot as plt\n",
    "import seaborn as sns\n",
    "import matplotlib as mpl\n",
    "from matplotlib.lines import Line2D\n",
    "from adjustText import adjust_text\n"
   ]
  },
  {
   "cell_type": "code",
   "execution_count": 2,
   "metadata": {},
   "outputs": [],
   "source": [
    "from module.convect.entropy_prep import get_ud_all_ent\n",
    "from module.convect.vectorisation import get_all_vectorisation\n",
    "from module.vnc_vectorisation_utils import label_point"
   ]
  },
  {
   "cell_type": "code",
   "execution_count": 3,
   "metadata": {},
   "outputs": [],
   "source": [
    "save_things = True # set as True to save the figures...\n",
    "\n",
    "if save_things:\n",
    "    supplementary_path = '../figures/supplementary'\n",
    "    if not os.path.isdir(supplementary_path):\n",
    "        os.makedirs(supplementary_path)\n"
   ]
  },
  {
   "cell_type": "markdown",
   "metadata": {},
   "source": [
    "# _Drosophila_ VNC\n",
    "\n"
   ]
  },
  {
   "cell_type": "markdown",
   "metadata": {},
   "source": [
    "## Load data\n"
   ]
  },
  {
   "cell_type": "code",
   "execution_count": 4,
   "metadata": {},
   "outputs": [],
   "source": [
    "datadate = '20241119' # date of drosophila VNC data pull\n",
    "\n",
    "dm_datadir = f'../data/{datadate}_dm_data'\n",
    "if not os.path.isdir(dm_datadir):\n",
    "    os.mkdir(dm_datadir)\n",
    "\n",
    "if not os.path.isdir(dm_datadir + '/processed'):\n",
    "    os.mkdir(dm_datadir + '/processed')\n"
   ]
  },
  {
   "cell_type": "code",
   "execution_count": 5,
   "metadata": {},
   "outputs": [],
   "source": [
    "\n",
    "df = pd.read_csv(f\"{dm_datadir}/manc_edges_{datadate}.csv\", index_col=0) # edge data frame\n",
    "meta_df = pd.read_csv(f\"{dm_datadir}/manc_meta_{datadate}.csv\", index_col=0) # meta data data frame\n",
    "\n",
    "df = df.groupby(['bodyId_pre', 'bodyId_post'], as_index=False).weight.sum()\n",
    "df.loc[:, 'bodyId_post'] = df['bodyId_post'].apply(int)\n",
    "df.loc[:, 'bodyId_pre'] = df['bodyId_pre'].apply(int)\n",
    "meta_df.loc[:, 'bodyId'] = meta_df.bodyId.apply(int)"
   ]
  },
  {
   "cell_type": "markdown",
   "metadata": {},
   "source": [
    "## Hemilineage vectorisation and specialization diversity"
   ]
  },
  {
   "cell_type": "code",
   "execution_count": 6,
   "metadata": {},
   "outputs": [
    {
     "name": "stdout",
     "output_type": "stream",
     "text": [
      "../data/20241119_dm_data/processed/hemilineage_vec.parquet vector parquet exists.\n"
     ]
    }
   ],
   "source": [
    "h_cat_string = 'hemilineage'\n",
    "hemilineage_fileprefix = f'{dm_datadir}/processed/hemilineage'\n",
    "\n",
    "h_cat_meta = meta_df[['bodyId', h_cat_string]].rename(columns={'bodyId':'id', h_cat_string:'type'}).copy(True)\n",
    "\n",
    "categories = [str(category) for category in h_cat_meta.dropna().type.unique()] \n",
    "categories.remove('TBD')\n",
    "all_hemi_vectors = get_all_vectorisation(df=df, meta_df=h_cat_meta, Ids=None, categories=categories, fpath_prefix=hemilineage_fileprefix, entropy=True)\n",
    "\n",
    "# ~4.5 mins"
   ]
  },
  {
   "cell_type": "code",
   "execution_count": 7,
   "metadata": {},
   "outputs": [
    {
     "name": "stdout",
     "output_type": "stream",
     "text": [
      "../data/20241119_dm_data/processed/hemilineage_ud_ents.parquet upstream/downstream parquet csv exists.\n"
     ]
    }
   ],
   "source": [
    "# Hemilineage vectorisation specialization-diversity\n",
    "all_hemi_entropies = get_ud_all_ent(df=df, meta_df=h_cat_meta, categories=categories, fpath_prefix=hemilineage_fileprefix)\n",
    "\n",
    "# ~4.5 mins"
   ]
  },
  {
   "cell_type": "markdown",
   "metadata": {},
   "source": [
    "## Network degrees\n"
   ]
  },
  {
   "cell_type": "code",
   "execution_count": 8,
   "metadata": {},
   "outputs": [],
   "source": [
    "edges = df.copy(True)\n",
    "edges['attr'] = [{'weight':i} for i in edges['weight']]\n",
    "\n",
    "\n",
    "edge_list = edges[['bodyId_pre', 'bodyId_post', 'attr']].to_numpy()\n",
    "\n",
    "\n",
    "vnc_g = nx.DiGraph()\n",
    "vnc_g.add_edges_from(edge_list)\n",
    "\n",
    "out_deg_cent = nx.out_degree_centrality(vnc_g)\n",
    "in_deg_cent = nx.in_degree_centrality(vnc_g)\n",
    "deg_cent = nx.degree_centrality(vnc_g)\n",
    "\n",
    "strength = dict(nx.degree(vnc_g, weight='weight'))\n",
    "# to_plot = meta_df.copy(True).reset_index()\n",
    "\n",
    "meta_df['out_deg']= meta_df.apply(lambda x: out_deg_cent.get(x.bodyId), axis=1)\n",
    "meta_df['in_deg'] = meta_df.apply(lambda x: in_deg_cent.get(x.bodyId), axis=1)\n",
    "meta_df['deg'] = meta_df.apply(lambda x: deg_cent.get(x.bodyId), axis=1)\n",
    "meta_df['strength'] = meta_df.apply(lambda x: strength.get(x.bodyId), axis=1)\n"
   ]
  },
  {
   "cell_type": "markdown",
   "metadata": {},
   "source": [
    "## Plot distribution"
   ]
  },
  {
   "cell_type": "code",
   "execution_count": 9,
   "metadata": {},
   "outputs": [],
   "source": [
    "cmap = mpl.colormaps['tab10']"
   ]
  },
  {
   "cell_type": "code",
   "execution_count": 10,
   "metadata": {},
   "outputs": [],
   "source": [
    "plot_df = meta_df.copy(True)\n",
    "plot_df = plot_df.join(all_hemi_entropies, on='bodyId')\n",
    "plot_df['class'] = plot_df['class'].astype(str)\n"
   ]
  },
  {
   "cell_type": "code",
   "execution_count": 11,
   "metadata": {},
   "outputs": [],
   "source": [
    "class_filtered_df = plot_df[~plot_df['class'].isin(['glia','TBD', 'nan', 'Unknown', None])].copy(True)\n"
   ]
  },
  {
   "cell_type": "code",
   "execution_count": 12,
   "metadata": {},
   "outputs": [],
   "source": [
    "cclasses=['descending neuron', 'sensory neuron', 'motor neuron', 'intrinsic neuron', 'ascending neuron']\n",
    "toplot_class_filtered_df= class_filtered_df[class_filtered_df['class'].isin(cclasses)]\n"
   ]
  },
  {
   "cell_type": "code",
   "execution_count": 13,
   "metadata": {},
   "outputs": [],
   "source": [
    "entropy_hubs = all_hemi_entropies[f'out_diff_ds'] + all_hemi_entropies[f'in_diff_us']\n",
    "entropy_hubs = entropy_hubs.sort_values(ascending=False)\n",
    "entropy_hubs = entropy_hubs.iloc[:10].index.values\n",
    "\n",
    "ent_hub_df = toplot_class_filtered_df[toplot_class_filtered_df.bodyId.isin(entropy_hubs)].copy(True)\n",
    "\n"
   ]
  },
  {
   "cell_type": "code",
   "execution_count": 14,
   "metadata": {},
   "outputs": [],
   "source": [
    "plot_df = meta_df.copy(True)\n",
    "plot_df = plot_df.join(all_hemi_entropies, on='bodyId')\n",
    "plot_df['class'] = plot_df['class'].astype(str)\n",
    "class_filtered_df = plot_df[~plot_df['class'].isin(['glia','TBD', 'nan', 'Unknown', None])].copy(True)\n"
   ]
  },
  {
   "cell_type": "code",
   "execution_count": 15,
   "metadata": {},
   "outputs": [],
   "source": [
    "cclasses=['descending neuron', 'sensory neuron', 'motor neuron', 'intrinsic neuron', 'ascending neuron']\n",
    "toplot_class_filtered_df= class_filtered_df[class_filtered_df['class'].isin(cclasses)]\n"
   ]
  },
  {
   "cell_type": "code",
   "execution_count": 16,
   "metadata": {},
   "outputs": [],
   "source": [
    "entropy_hubs = all_hemi_entropies[f'out_diff_ds'] + all_hemi_entropies[f'in_diff_us']\n",
    "entropy_hubs = entropy_hubs.sort_values(ascending=False)\n",
    "entropy_hubs = entropy_hubs.iloc[:10].index.values\n",
    "\n",
    "ent_hub_df = toplot_class_filtered_df[toplot_class_filtered_df.bodyId.isin(entropy_hubs)].copy(True)\n"
   ]
  },
  {
   "cell_type": "code",
   "execution_count": 17,
   "metadata": {},
   "outputs": [],
   "source": [
    "\n",
    "# motor function to hemilineage mapping from Harris et al., (2015)\n",
    "func_hemi_map = {'posture':['03B', '23B', '12B', '13B', '05B', '20A.22A', '08A', '09A'], \\\n",
    "                 'uc_leg_movement':['06A', '06B', '19A', '21A', '23B'], \\\n",
    "                 'walking':['18B', '12A', '01A', '10B'],\\\n",
    "                 'wing_wave':['12A', '03B'],\n",
    "                 'wing_buzz':['07B', '11A', '11B', '02A', '18B', '12A'], \\\n",
    "                 'takeoff': ['07B', '11A', '11B', '18B'] }\n",
    "\n",
    "functional_labels = dict(zip(list(func_hemi_map.keys()), range(len(func_hemi_map))))"
   ]
  },
  {
   "cell_type": "code",
   "execution_count": 18,
   "metadata": {},
   "outputs": [],
   "source": [
    "hemi_func_map = {}\n",
    "for key, val in func_hemi_map.items():\n",
    "    for h in val:\n",
    "        lst = hemi_func_map.get(h, [])\n",
    "        lst.append(key)\n",
    "        hemi_func_map[h] = lst\n"
   ]
  },
  {
   "cell_type": "code",
   "execution_count": 19,
   "metadata": {},
   "outputs": [],
   "source": [
    "toplot_class_secondary_filtered_df = toplot_class_filtered_df[toplot_class_filtered_df.birthtime=='secondary'].copy(True)"
   ]
  },
  {
   "cell_type": "code",
   "execution_count": 20,
   "metadata": {},
   "outputs": [],
   "source": [
    "mean_sds = pd.DataFrame([toplot_class_secondary_filtered_df.groupby('hemilineage').out_diff_ds.mean().sort_values(ascending=False), toplot_class_secondary_filtered_df.groupby('hemilineage').in_diff_us.mean().sort_values(ascending=False)]).T\n"
   ]
  },
  {
   "cell_type": "code",
   "execution_count": 21,
   "metadata": {},
   "outputs": [],
   "source": [
    "cmap = mpl.colormaps['tab10']\n",
    "func_hemis = list(set(hemi_func_map.keys()))\n",
    "non_func_hemis = list(set(mean_sds.index) - set(func_hemis))"
   ]
  },
  {
   "cell_type": "code",
   "execution_count": 22,
   "metadata": {},
   "outputs": [
    {
     "data": {
      "image/png": "[encoded data removed]",
      "text/plain": [
       "<Figure size 576x576 with 1 Axes>"
      ]
     },
     "metadata": {
      "needs_background": "light"
     },
     "output_type": "display_data"
    }
   ],
   "source": [
    "mean_sds = pd.DataFrame([toplot_class_secondary_filtered_df.groupby('hemilineage').out_diff_ds.mean().sort_values(ascending=False), toplot_class_secondary_filtered_df.groupby('hemilineage').in_diff_us.mean().sort_values(ascending=False)]).T\n",
    "\n",
    "fig, ax = plt.subplots(figsize=(8,8))\n",
    "\n",
    "sns.scatterplot(mean_sds, x='out_diff_ds', y='in_diff_us', alpha=0.2, color='black', ax=ax) # plot all in transparent black\n",
    "\n",
    "\n",
    "# plot the functional hemilineages from Harris et al., in colours\n",
    "for key, val in hemi_func_map.items():\n",
    "    x, y = mean_sds.loc[key]['out_diff_ds'], mean_sds.loc[key]['in_diff_us']\n",
    "    cmap_inds = [functional_labels.get(i) for i in val]\n",
    "\n",
    "    # make an evenly spaced pie chart of markers depending on which function a hemilineage is related to\n",
    "    num_of_splits = len(val)\n",
    "    rs = 1/num_of_splits # ratios\n",
    "    marker_xys = []\n",
    "\n",
    "    for i in range(num_of_splits):\n",
    "        marker_x = [0] + np.cos(np.linspace(2 * np.pi * rs * i, 2 * np.pi * rs * (i + 1), 50)).tolist() + [0]\n",
    "        marker_y = [0] + np.sin(np.linspace(2 * np.pi * rs * i, 2 * np.pi * rs * (i + 1), 50)).tolist() + [0]\n",
    "        marker_xy = np.column_stack([marker_x, marker_y])\n",
    "        marker_xys.append(marker_xy)\n",
    "\n",
    "    for i in range(num_of_splits):\n",
    "        ax.scatter(x, y, marker=marker_xys[i],\n",
    "                s=100, facecolor=cmap(cmap_inds[i]))\n",
    "\n",
    "label_point(mean_sds.loc[func_hemis].reset_index()[f'out_diff_ds'], \n",
    "            mean_sds.loc[func_hemis].reset_index()[f'in_diff_us'], \n",
    "            mean_sds.loc[func_hemis].reset_index()['hemilineage'], \n",
    "            plt.gca(), alpha=0.8, fontsize=12)\n",
    "label_point(mean_sds.loc[non_func_hemis].reset_index()[f'out_diff_ds'], \n",
    "            mean_sds.loc[non_func_hemis].reset_index()[f'in_diff_us'], \n",
    "            mean_sds.loc[non_func_hemis].reset_index()['hemilineage'], \n",
    "            plt.gca(), alpha=0.5, fontsize=8)\n",
    "\n",
    "texts = list(plt.gca().texts)\n",
    "\n",
    "# adjust the text so it's not overlapping:\n",
    "adjust_text(texts,expand=(1.2, 1.5), min_arrow_len=10, arrowprops=dict(linewidth=2, arrowstyle='->', color='#e2102233'))\n",
    "xlabel = r'Mean $\\Delta_S^{D, out}$'\n",
    "plt.xlabel(xlabel,size=30 )\n",
    "legend_elements = [Line2D([0], [0], marker='o', label=key, color=cmap(val), linestyle='',\n",
    "                          markersize=10, markeredgewidth=3) for key, val in functional_labels.items()] + \\\n",
    "                    [Line2D([0], [0], label=r'$y=x$ line', color='r', linestyle='--', alpha=0.5)] \n",
    "\n",
    "ax.legend(handles=legend_elements, fontsize=13)\n",
    "ax.plot([0.6, 0.95], [0.6, 0.95], 'r--', alpha=0.5)\n",
    "\n",
    "ylabel = r'Mean $\\Delta_S^{U, in}$'\n",
    "plt.ylabel(ylabel ,size=30 )\n",
    "if save_things:\n",
    "    plt.savefig('../figures/supplementary/sd_hemi_avg_secondary_drosophila.png', dpi=300)\n",
    "plt.show()\n"
   ]
  }
 ],
 "metadata": {
  "kernelspec": {
   "display_name": "base",
   "language": "python",
   "name": "python3"
  },
  "language_info": {
   "codemirror_mode": {
    "name": "ipython",
    "version": 3
   },
   "file_extension": ".py",
   "mimetype": "text/x-python",
   "name": "python",
   "nbconvert_exporter": "python",
   "pygments_lexer": "ipython3",
   "version": "3.9.7"
  }
 },
 "nbformat": 4,
 "nbformat_minor": 2
}

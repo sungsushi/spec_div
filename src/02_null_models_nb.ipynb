{
 "cells": [
  {
   "cell_type": "code",
   "execution_count": 1,
   "metadata": {},
   "outputs": [],
   "source": [
    "import numpy as np\n",
    "import pandas as pd\n",
    "import os\n",
    "import plotly.express as px\n",
    "import plotly.graph_objects as go\n",
    "import matplotlib.pyplot as plt\n",
    "import seaborn as sns\n",
    "import networkx as nx\n",
    "from scipy.spatial.distance import pdist\n",
    "import scipy as sp"
   ]
  },
  {
   "cell_type": "code",
   "execution_count": 2,
   "metadata": {},
   "outputs": [],
   "source": [
    "from module.convect.entropy_prep import get_ud_all_ent\n",
    "from module.convect.vectorisation import get_all_vectorisation\n",
    "from module.data_prep_drosophila import drosophila_data\n",
    "from module.data_prep_celegans import celegans_data, syn_to_edge\n"
   ]
  },
  {
   "cell_type": "code",
   "execution_count": 3,
   "metadata": {},
   "outputs": [],
   "source": [
    "save_things = True # set as True to save data and figures"
   ]
  },
  {
   "cell_type": "markdown",
   "metadata": {},
   "source": [
    "# _Drosophila_ VNC\n",
    "\n"
   ]
  },
  {
   "cell_type": "markdown",
   "metadata": {},
   "source": [
    "## Load data\n"
   ]
  },
  {
   "cell_type": "code",
   "execution_count": 4,
   "metadata": {},
   "outputs": [],
   "source": [
    "datadate = '20241119' # date of drosophila VNC data pull\n",
    "dm_datadir = f'../data/{datadate}_dm_data'\n",
    "\n",
    "df, meta_df = drosophila_data(datadate=datadate)"
   ]
  },
  {
   "cell_type": "markdown",
   "metadata": {},
   "source": [
    "## Hemilineage vectorisation and specialization diversity"
   ]
  },
  {
   "cell_type": "code",
   "execution_count": 5,
   "metadata": {},
   "outputs": [
    {
     "name": "stdout",
     "output_type": "stream",
     "text": [
      "../data/20241119_dm_data/processed/hemilineage_vec.parquet vector parquet exists.\n"
     ]
    }
   ],
   "source": [
    "h_cat_string = 'hemilineage'\n",
    "hemilineage_fileprefix = f'{dm_datadir}/processed/hemilineage'\n",
    "\n",
    "h_cat_meta = meta_df[['bodyId', h_cat_string]].rename(columns={'bodyId':'id', h_cat_string:'type'}).copy(True)\n",
    "\n",
    "categories = [str(category) for category in h_cat_meta.dropna().type.unique()] \n",
    "categories.remove('TBD')\n",
    "all_hemi_vectors = get_all_vectorisation(df=df, meta_df=h_cat_meta, Ids=None, categories=categories, fpath_prefix=hemilineage_fileprefix, entropy=True)\n",
    "\n",
    "# ~4.5 mins"
   ]
  },
  {
   "cell_type": "code",
   "execution_count": 6,
   "metadata": {},
   "outputs": [
    {
     "name": "stdout",
     "output_type": "stream",
     "text": [
      "../data/20241119_dm_data/processed/hemilineage_ud_ents.parquet upstream/downstream parquet csv exists.\n"
     ]
    }
   ],
   "source": [
    "# Hemilineage vectorisation specialization-diversity\n",
    "all_hemi_entropies = get_ud_all_ent(df=df, meta_df=h_cat_meta, categories=categories, fpath_prefix=hemilineage_fileprefix)\n",
    "\n",
    "# ~4.5 mins"
   ]
  },
  {
   "cell_type": "code",
   "execution_count": 7,
   "metadata": {},
   "outputs": [],
   "source": [
    "plot_df = meta_df.copy(True)\n",
    "plot_df = plot_df.join(all_hemi_entropies, on='bodyId')\n",
    "plot_df['class'] = plot_df['class'].astype(str)\n"
   ]
  },
  {
   "cell_type": "code",
   "execution_count": 8,
   "metadata": {},
   "outputs": [],
   "source": [
    "class_filtered_df = plot_df[~plot_df['class'].isin(['glia','TBD', 'nan', 'Unknown', None])].copy(True)\n"
   ]
  },
  {
   "cell_type": "code",
   "execution_count": 9,
   "metadata": {},
   "outputs": [],
   "source": [
    "cclasses=['descending neuron', 'sensory neuron', 'motor neuron', 'intrinsic neuron', 'ascending neuron']\n",
    "toplot_class_filtered_df= class_filtered_df[class_filtered_df['class'].isin(cclasses)]\n"
   ]
  },
  {
   "cell_type": "markdown",
   "metadata": {},
   "source": [
    "## Serial homologue statistical testing"
   ]
  },
  {
   "cell_type": "code",
   "execution_count": 10,
   "metadata": {},
   "outputs": [],
   "source": [
    "serial_sets = meta_df.serial.value_counts()[meta_df.serial.value_counts()==6].index.to_numpy() # only consider sixfold serials?\n",
    "serial_meta = meta_df.copy(True)\n",
    "serial_meta.dropna(subset='serial', inplace=True)\n",
    "serial_meta['serial'] = serial_meta['serial'].astype(int)\n",
    "serial_series = serial_meta.sort_values(by=['serial', 'instance']).groupby('serial').apply(lambda x: x.bodyId.values)\n",
    "serials = serial_series[serial_sets].apply(tuple).to_numpy()\n",
    "serials = np.array([*serials])"
   ]
  },
  {
   "cell_type": "code",
   "execution_count": 11,
   "metadata": {},
   "outputs": [],
   "source": [
    "cols_for_dist_calc = ['out_diff_ds', 'in_diff_us']\n"
   ]
  },
  {
   "cell_type": "code",
   "execution_count": 12,
   "metadata": {},
   "outputs": [],
   "source": [
    "output = []\n",
    "col_ser_dists= []\n",
    "for i in serials:\n",
    "    try:\n",
    "        col_ser_vdist = pdist(all_hemi_vectors.loc[list(i)].iloc[:, :-2], metric='euclidean')\n",
    "        col_ser_edist = pdist(all_hemi_entropies.loc[list(i), cols_for_dist_calc], metric='euclidean')\n",
    "\n",
    "        output.append({'ser':i, 'vd':col_ser_vdist, 'ed':col_ser_edist})\n",
    "        # col_ser_dists.append(col_ser_dist)\n",
    "    except:\n",
    "        output.append({'ser':i, 'vd':None, 'ed':None})\n",
    "        continue\n",
    "\n",
    "col_ser_dist_df = pd.DataFrame(output)\n",
    "# col_ser_vdists = np.hstack(col_ser_dist_df.vd).flatten()\n",
    "col_ser_edists = np.hstack(col_ser_dist_df.ed).flatten()\n"
   ]
  },
  {
   "cell_type": "code",
   "execution_count": 13,
   "metadata": {},
   "outputs": [],
   "source": [
    "serial_roi_shuffled_dists=[]\n",
    "output=[]\n",
    "for seed in range(10):\n",
    "    np.random.seed(seed)\n",
    "    mixed_serials = np.zeros(serials.shape)\n",
    "    mixed_serials[:,0] = serials[:,0]\n",
    "    for i in range(1,6):\n",
    "        rand_inds = np.random.randint(0,len(mixed_serials)-1, size=len(mixed_serials))\n",
    "        mixed_serials[:,i] = serials[rand_inds,i]\n",
    "    rand_id_sample = mixed_serials\n",
    "\n",
    "    col_sample_dists = []\n",
    "    for i in rand_id_sample:\n",
    "        try:\n",
    "            col_sample_vdist = pdist(all_hemi_vectors.loc[i].iloc[:, :-2], metric='euclidean')\n",
    "            col_sample_edist = pdist(all_hemi_entropies.loc[i, cols_for_dist_calc], metric='euclidean')\n",
    "\n",
    "            # col_sample_dists.append(np.mean(col_sample_dist))\n",
    "            # col_sample_dists.append(col_sample_dist)\n",
    "            output.append({'ser':i, 'vd':col_sample_vdist, 'ed':col_sample_edist})\n",
    "        except:\n",
    "            continue\n",
    "\n",
    "\n",
    "serial_roi_shuffled_df = pd.DataFrame(output)\n",
    "# serial_roi_shuffled_vdists = np.hstack(serial_roi_shuffled_df.vd).flatten()\n",
    "serial_roi_shuffled_edists = np.hstack(serial_roi_shuffled_df.ed).flatten()"
   ]
  },
  {
   "cell_type": "markdown",
   "metadata": {},
   "source": [
    "## Left-right pair statistical testing"
   ]
  },
  {
   "cell_type": "code",
   "execution_count": 14,
   "metadata": {},
   "outputs": [],
   "source": [
    "two_groupnames = meta_df.group.value_counts()[meta_df.group.value_counts() == 2].index.astype(int)\n",
    "group_meta = meta_df.copy(True)\n",
    "group_meta.dropna(subset='group', inplace=True)\n",
    "group_meta['group'] = group_meta['group'].astype(int)\n",
    "\n",
    "group_series = group_meta.sort_values(by=['group', 'instance']).groupby('group').apply(lambda x: x.bodyId.values)\n",
    "all_ids_group_exist = np.hstack(group_series.values)\n",
    "pairs = group_series[two_groupnames].apply(tuple).to_numpy()\n",
    "pairs = np.array([*pairs])\n",
    "cols_for_dist_calc = ['out_diff_ds', 'in_diff_us']\n"
   ]
  },
  {
   "cell_type": "code",
   "execution_count": 15,
   "metadata": {},
   "outputs": [],
   "source": [
    "output = []\n",
    "for i in pairs:\n",
    "    try:\n",
    "        col_pair_vdist = pdist(all_hemi_vectors.loc[i].iloc[:, :-2])\n",
    "        col_pair_edist = pdist(all_hemi_entropies.loc[i, cols_for_dist_calc])\n",
    "        output.append({'pair':i, 'vd':col_pair_vdist[0], 'ed':col_pair_edist[0]})\n",
    "    except:\n",
    "        output.append({'pair':i, 'vd':None, 'ed':None })\n",
    "        continue\n",
    "\n",
    "col_pair_dists_df = pd.DataFrame(output)\n",
    "# col_pair_vdists = col_pair_dists_df.vd.tolist()\n",
    "col_pair_edists = col_pair_dists_df.ed.tolist()"
   ]
  },
  {
   "cell_type": "code",
   "execution_count": 16,
   "metadata": {},
   "outputs": [],
   "source": [
    "output = []\n",
    "\n",
    "for seed in range(10):\n",
    "    np.random.seed(seed)\n",
    "    rand_inds = np.random.randint(0,len(col_pair_dists_df)-1, size=len(col_pair_dists_df))\n",
    "    rand_id_sample = np.array(list(zip(pairs[:,0], pairs[rand_inds,1])))\n",
    "\n",
    "    col_sample_dists = []\n",
    "    for i in rand_id_sample:\n",
    "        try:\n",
    "            col_sample_vdist = pdist(all_hemi_vectors.loc[i].iloc[:, :-2])\n",
    "            col_sample_edist = pdist(all_hemi_entropies.loc[i, cols_for_dist_calc])\n",
    "            output.append({'sample':i, 'vd':col_sample_vdist[0], 'ed':col_sample_edist[0]})\n",
    "        except:\n",
    "            output.append({'sample':i, 'vd':None, 'ed':None })\n",
    "\n",
    "            continue\n",
    "\n",
    "col_sample_dists_df = pd.DataFrame(output)\n",
    "# col_sample_vdists = col_sample_dists_df.vd.tolist()\n",
    "col_sample_edists = col_sample_dists_df.ed.tolist()"
   ]
  },
  {
   "cell_type": "markdown",
   "metadata": {},
   "source": [
    "## Plot figure"
   ]
  },
  {
   "cell_type": "code",
   "execution_count": 17,
   "metadata": {},
   "outputs": [
    {
     "data": {
      "image/png": "[encoded data removed]",
      "text/plain": [
       "<Figure size 432x432 with 2 Axes>"
      ]
     },
     "metadata": {
      "needs_background": "light"
     },
     "output_type": "display_data"
    }
   ],
   "source": [
    "fig, ax = plt.subplots(2, 1, figsize=(6,6 ), sharex=False)\n",
    "\n",
    "ax[0].hist(col_sample_edists, bins=50, label='Null',color='grey', fill=True, histtype='step', density=True, linewidth=3) # random sample\n",
    "ax[0].hist(col_pair_edists, bins=50, label='L/R pairs', histtype='step', density=True, linewidth=3, color='blue')\n",
    "ax[0].set_yticks([])\n",
    "ax[0].legend(prop={'size': 20})\n",
    "\n",
    "ax[1].hist(serial_roi_shuffled_edists,color='grey', fill=True, bins=50, label='Null', histtype='step', density=True, linewidth=3) # roi sampled\n",
    "ax[1].hist(col_ser_edists, bins=50, label='Serial Hom.', histtype='step', density=True, linewidth=3, color='blue')\n",
    "ax[1].set_yticks([])\n",
    "ax[1].set_xticks(ticks=[0,.5,1,1.5])\n",
    "\n",
    "ax[1].tick_params(labelsize=15, size=5)\n",
    "ax[0].tick_params(labelsize=15, size=5)\n",
    "\n",
    "\n",
    "ax[1].set_xlabel('pairwise entropic distance', size=20)\n",
    "fig.supylabel('freq density', size=20)\n",
    "ax[1].legend(prop={'size': 20})\n",
    "sns.despine(offset=5, trim=True)\n",
    "for axis in ax:\n",
    "\n",
    "    axis.spines['top'].set_visible(False)\n",
    "    axis.spines['right'].set_visible(False)\n",
    "    # ax[1].spines['bottom'].set_visible(False)\n",
    "    axis.spines['left'].set_visible(False)\n",
    "    # axis.spines.bottom.set_bounds(0, 1.5)\n",
    "\n",
    "\n",
    "if save_things:\n",
    "    fig.savefig('../figures/r2_sd_null_A_drosophila.png', dpi=300)\n",
    "plt.show()"
   ]
  },
  {
   "cell_type": "code",
   "execution_count": 18,
   "metadata": {},
   "outputs": [
    {
     "data": {
      "text/plain": [
       "KstestResult(statistic=0.697743648084945, pvalue=0.0)"
      ]
     },
     "execution_count": 18,
     "metadata": {},
     "output_type": "execute_result"
    }
   ],
   "source": [
    "sp.stats.ks_2samp(col_pair_edists, col_sample_edists, alternative='two-sided')"
   ]
  },
  {
   "cell_type": "code",
   "execution_count": 19,
   "metadata": {},
   "outputs": [
    {
     "data": {
      "text/plain": [
       "KstestResult(statistic=0.5148506860371267, pvalue=0.0)"
      ]
     },
     "execution_count": 19,
     "metadata": {},
     "output_type": "execute_result"
    }
   ],
   "source": [
    "sp.stats.ks_2samp(col_ser_edists, serial_roi_shuffled_edists, alternative='two-sided')"
   ]
  },
  {
   "cell_type": "markdown",
   "metadata": {},
   "source": [
    "# _C. elegans_"
   ]
  },
  {
   "cell_type": "markdown",
   "metadata": {},
   "source": [
    "## Load data"
   ]
  },
  {
   "cell_type": "code",
   "execution_count": 20,
   "metadata": {},
   "outputs": [],
   "source": [
    "edge_df, ce_meta = celegans_data()"
   ]
  },
  {
   "cell_type": "code",
   "execution_count": 21,
   "metadata": {},
   "outputs": [],
   "source": [
    "chem_edges_df = syn_to_edge(edge_df, electrical=False)\n",
    "\n",
    "all_edges_df = syn_to_edge(edge_df, electrical=True)"
   ]
  },
  {
   "cell_type": "code",
   "execution_count": 22,
   "metadata": {},
   "outputs": [
    {
     "name": "stdout",
     "output_type": "stream",
     "text": [
      "../data/celegans/processed/cellclass/V_cellclass_chem_ud_ents.parquet upstream/downstream parquet csv exists.\n",
      "../data/celegans/processed/cellclass/V_cellclass_all_ud_ents.parquet upstream/downstream parquet csv exists.\n",
      "../data/celegans/processed/cook_ccat/V_cook_ccat_chem_ud_ents.parquet upstream/downstream parquet csv exists.\n",
      "../data/celegans/processed/cook_ccat/V_cook_ccat_all_ud_ents.parquet upstream/downstream parquet csv exists.\n",
      "../data/celegans/processed/ncclass/V_ncclass_chem_ud_ents.parquet upstream/downstream parquet csv exists.\n",
      "../data/celegans/processed/ncclass/V_ncclass_all_ud_ents.parquet upstream/downstream parquet csv exists.\n",
      "../data/celegans/processed/fclass/V_fclass_chem_ud_ents.parquet upstream/downstream parquet csv exists.\n",
      "../data/celegans/processed/fclass/V_fclass_all_ud_ents.parquet upstream/downstream parquet csv exists.\n"
     ]
    }
   ],
   "source": [
    "strings_list = ['Anatomical cell class (WW Barry)', 'Cook cell category', 'Cell Class', 'Final classification']\n",
    "\n",
    "shorthand = {'Anatomical cell class (WW Barry)':'cellclass', \\\n",
    "             'Cook cell category':'cook_ccat', \\\n",
    "             'Cell Class':'ncclass', 'Final classification':'fclass'}\n",
    "\n",
    "edge_dict = {'chem':chem_edges_df, 'all':all_edges_df}\n",
    "\n",
    "\n",
    "for class_string in strings_list:\n",
    "    class_meta = ce_meta.reset_index()[['Neuron', class_string]].rename(columns={'Neuron':'id', class_string:'type'}).copy(True)\n",
    "    class_name = shorthand.get(class_string)\n",
    "    todir = f'../data/celegans/processed/{class_name}'\n",
    "    if not os.path.isdir(todir):\n",
    "        os.mkdir(todir)\n",
    "    for edgetype in edge_dict.keys():\n",
    "        typeedge_df = edge_dict.get(edgetype)\n",
    "        edgetype_class_ents = get_ud_all_ent(df=typeedge_df, meta_df=class_meta, categories=None, fpath_prefix=f'{todir}/V_{class_name}_{edgetype}')\n",
    "# 44s"
   ]
  },
  {
   "cell_type": "code",
   "execution_count": 23,
   "metadata": {},
   "outputs": [],
   "source": [
    "\n",
    "class_string = 'Cook cell category'\n",
    "class_name = shorthand.get(class_string)\n",
    "\n",
    "edgetype='all'\n",
    "ent_dir = f'../data/celegans/processed/{class_name}/V_{class_name}_{edgetype}_ud_ents.parquet'\n",
    "vec_dir = f'../data/celegans/processed/{class_name}/V_{class_name}_{edgetype}_vec.parquet'\n",
    "\n",
    "read_vec = pd.read_parquet(vec_dir)\n",
    "vecs = read_vec.iloc[:, :-2]\n",
    "vec_ent = read_vec.iloc[:, -2:]\n",
    "\n",
    "\n",
    "spec_div = pd.read_parquet(ent_dir)\n",
    "\n"
   ]
  },
  {
   "cell_type": "code",
   "execution_count": 24,
   "metadata": {},
   "outputs": [],
   "source": [
    "\n",
    "to_plot = ce_meta.copy(True).reset_index()\n",
    "to_plot = to_plot.join(spec_div, on='Neuron')\n",
    "\n"
   ]
  },
  {
   "cell_type": "code",
   "execution_count": 25,
   "metadata": {},
   "outputs": [],
   "source": [
    "\n",
    "fig_to_plot = to_plot.rename(columns={'Final classification':'Cell class', 'deg':'Degree'})\n",
    "fig_to_plot = fig_to_plot[fig_to_plot['Cell class']!='unknown']\n"
   ]
  },
  {
   "cell_type": "code",
   "execution_count": 26,
   "metadata": {},
   "outputs": [],
   "source": [
    "# specify the specialization-diversities to take entropic euclidean distances of...\n",
    "cols_for_dist_calc = ['out_diff_ds', 'in_diff_us']\n"
   ]
  },
  {
   "cell_type": "markdown",
   "metadata": {},
   "source": [
    "## Calculate all neuron by all neuron pairwise entropic distances"
   ]
  },
  {
   "cell_type": "code",
   "execution_count": 27,
   "metadata": {},
   "outputs": [],
   "source": [
    "class2neuron_dict = ce_meta.reset_index().groupby('Cell Class').Neuron.apply(list).to_dict()\n",
    "\n",
    "fclass2neuron_dict = ce_meta.reset_index().groupby('Final classification').Neuron.apply(list).to_dict()\n",
    "\n",
    "aclass2neuron_dict = ce_meta.reset_index().groupby('Anatomical cell class (WW Barry)').Neuron.apply(list).to_dict()\n",
    "cclass2neuron_dict = ce_meta.reset_index().groupby('Cook cell category').Neuron.apply(list).to_dict()"
   ]
  },
  {
   "cell_type": "code",
   "execution_count": 28,
   "metadata": {},
   "outputs": [],
   "source": [
    "output = []\n",
    "col_ser_dists= []\n",
    "\n",
    "for fc, neurons in class2neuron_dict.items():\n",
    "    sliced_sd = spec_div[spec_div.index.isin(neurons)]\n",
    "\n",
    "\n",
    "    if len(sliced_sd) > 1:\n",
    "        col_class_dist = pdist(sliced_sd.loc[:, cols_for_dist_calc], metric='euclidean')\n",
    "        class_vdists = pdist(vecs[vecs.index.isin(neurons)], metric='euclidean')\n",
    "        output.append({'fc_name':fc, 'vd':class_vdists, 'ed':col_class_dist})\n",
    "col_class_dist_df = pd.DataFrame(output)\n",
    "\n",
    "# flat_class_vdists = np.hstack(col_class_dist_df.vd)\n",
    "flat_class_edists = np.hstack(col_class_dist_df.ed)"
   ]
  },
  {
   "cell_type": "code",
   "execution_count": 29,
   "metadata": {},
   "outputs": [],
   "source": [
    "\n",
    "ent_exists = spec_div.index.tolist()\n",
    "aba_vdist = pdist(vecs)\n",
    "aba_edist = pdist(spec_div.loc[:,cols_for_dist_calc])\n"
   ]
  },
  {
   "cell_type": "markdown",
   "metadata": {},
   "source": [
    "## Calculate entropic Euclidean distances between cell types and pairs"
   ]
  },
  {
   "cell_type": "code",
   "execution_count": 30,
   "metadata": {},
   "outputs": [],
   "source": [
    "output = []\n",
    "col_ser_dists= []\n",
    "\n",
    "for fc, neurons in class2neuron_dict.items():\n",
    "    sliced_sd = spec_div[spec_div.index.isin(neurons)]\n",
    "\n",
    "\n",
    "    if len(sliced_sd) > 1:\n",
    "        col_class_dist = pdist(sliced_sd.loc[:, cols_for_dist_calc], metric='euclidean')\n",
    "        class_vdists = pdist(vecs[vecs.index.isin(neurons)], metric='euclidean')\n",
    "        output.append({'fc_name':fc, 'vd':class_vdists, 'ed':col_class_dist})\n",
    "col_class_dist_df = pd.DataFrame(output)\n",
    "\n",
    "flat_class_edists = np.hstack(col_class_dist_df.ed)"
   ]
  },
  {
   "cell_type": "markdown",
   "metadata": {},
   "source": [
    "## Left-right pairs statistical testing"
   ]
  },
  {
   "cell_type": "code",
   "execution_count": 31,
   "metadata": {},
   "outputs": [],
   "source": [
    "neurons = ce_meta.index.values\n",
    "lr_labelled = [i for i in neurons if (i[-1] == 'L') or (i[-1]=='R')]\n",
    "\n",
    "track_pairs = {}\n",
    "\n",
    "for i in lr_labelled:\n",
    "    pair_id = i[:-1]\n",
    "    if track_pairs.get(pair_id)==None:\n",
    "        track_pairs[pair_id] = [i]\n",
    "        continue\n",
    "    track_pairs[pair_id].append(i)\n",
    "    \n",
    "pair_ids = [pid for pid,val in track_pairs.items() if len(val)==2]\n",
    "pair_arr = np.array([track_pairs[i] for i in pair_ids])"
   ]
  },
  {
   "cell_type": "code",
   "execution_count": 32,
   "metadata": {},
   "outputs": [],
   "source": [
    "output = []\n",
    "for i in pair_arr:\n",
    "    sliced_sd = spec_div[spec_div.index.isin(i)]\n",
    "    if len(sliced_sd) > 1:\n",
    "        col_pair_vdist = pdist(vecs.loc[i])\n",
    "        col_pair_edist = pdist(sliced_sd.loc[i, cols_for_dist_calc])\n",
    "        output.append({'pair':i, 'vd':col_pair_vdist[0], 'ed':col_pair_edist[0]})\n",
    "\n",
    "col_pair_dists_df = pd.DataFrame(output) # data frame of pair distances. \n",
    "col_pair_edists = col_pair_dists_df.ed.values"
   ]
  },
  {
   "cell_type": "code",
   "execution_count": 33,
   "metadata": {},
   "outputs": [],
   "source": [
    "output = []\n",
    "\n",
    "for seed in range(10): # 10 realizations.\n",
    "    np.random.seed(seed)\n",
    "    rand_inds = np.random.randint(0,len(col_pair_edists)-1, size=len(col_pair_edists))\n",
    "    rand_id_sample = np.array(list(zip(pair_arr[:,0], pair_arr[rand_inds,1])))\n",
    "\n",
    "    for i in rand_id_sample:\n",
    "        sliced_sd = spec_div[spec_div.index.isin(i)]\n",
    "        if len(sliced_sd) > 1:\n",
    "            col_pair_vdist = pdist(vecs.loc[i])\n",
    "            col_pair_edist = pdist(sliced_sd.loc[i, cols_for_dist_calc])\n",
    "            output.append({'pair':i, 'vd':col_pair_vdist[0], 'ed':col_pair_edist[0]})\n",
    "\n",
    "col_samplepair_dists_df = pd.DataFrame(output) # data frame of pair sampled distances\n",
    "col_samplepair_edists = col_samplepair_dists_df.ed.values"
   ]
  },
  {
   "cell_type": "markdown",
   "metadata": {},
   "source": [
    "## Plot figure"
   ]
  },
  {
   "cell_type": "code",
   "execution_count": 34,
   "metadata": {},
   "outputs": [
    {
     "data": {
      "image/png": "[encoded data removed]",
      "text/plain": [
       "<Figure size 432x432 with 2 Axes>"
      ]
     },
     "metadata": {
      "needs_background": "light"
     },
     "output_type": "display_data"
    }
   ],
   "source": [
    "fig, ax = plt.subplots(2, 1, figsize=(6,6 ), sharex=False)\n",
    "ax[0].hist(col_samplepair_edists, bins=50, label='Null', histtype='step', density=True, linewidth=3, color='grey', fill=True) # random sample\n",
    "ax[0].hist(col_pair_edists, bins=50, label='L/R pairs', histtype='step', density=True, linewidth=3, color='blue') \n",
    "ax[0].set_yticks([])\n",
    "ax[0].legend(prop={'size': 20})\n",
    "ax[0].tick_params(labelsize=15, size=5)\n",
    "\n",
    "ax[1].hist(aba_edist, bins=50, label='Null', histtype='step', density=True, linewidth=3, color='grey', fill=True) # all by all!\n",
    "ax[1].hist(flat_class_edists, bins=50, label='Cell type', histtype='step', density=True, linewidth=3, color='blue')\n",
    "ax[1].set_yticks([])\n",
    "ax[1].set_xticks(ticks=[0,.5,1,1.5])\n",
    "ax[1].tick_params(labelsize=15, size=5)\n",
    "ax[1].set_xlabel('pairwise entropic distance', size=20)\n",
    "ax[1].legend(prop={'size': 20})\n",
    "\n",
    "fig.supylabel('freq density', size=20)\n",
    "plt.tight_layout()\n",
    "sns.despine(offset=5, trim=True)\n",
    "\n",
    "for axis in ax:\n",
    "\n",
    "    axis.spines['top'].set_visible(False)\n",
    "    axis.spines['right'].set_visible(False)\n",
    "    axis.spines['left'].set_visible(False)\n",
    "if save_things:\n",
    "    fig.savefig('../figures/r2_sd_null_B_celegans.png', dpi=300)\n",
    "plt.show()"
   ]
  },
  {
   "cell_type": "code",
   "execution_count": 35,
   "metadata": {},
   "outputs": [
    {
     "data": {
      "text/plain": [
       "KstestResult(statistic=0.47585811871526157, pvalue=6.144587374638144e-19)"
      ]
     },
     "execution_count": 35,
     "metadata": {},
     "output_type": "execute_result"
    }
   ],
   "source": [
    "sp.stats.ks_2samp(col_pair_edists, col_samplepair_edists, alternative='two-sided')"
   ]
  },
  {
   "cell_type": "code",
   "execution_count": 36,
   "metadata": {},
   "outputs": [
    {
     "data": {
      "text/plain": [
       "KstestResult(statistic=0.39056191727701256, pvalue=3.595678452672523e-70)"
      ]
     },
     "execution_count": 36,
     "metadata": {},
     "output_type": "execute_result"
    }
   ],
   "source": [
    "sp.stats.ks_2samp(flat_class_edists, aba_edist, alternative='two-sided')"
   ]
  }
 ],
 "metadata": {
  "kernelspec": {
   "display_name": "base",
   "language": "python",
   "name": "python3"
  },
  "language_info": {
   "codemirror_mode": {
    "name": "ipython",
    "version": 3
   },
   "file_extension": ".py",
   "mimetype": "text/x-python",
   "name": "python",
   "nbconvert_exporter": "python",
   "pygments_lexer": "ipython3",
   "version": "3.9.7"
  }
 },
 "nbformat": 4,
 "nbformat_minor": 2
}
